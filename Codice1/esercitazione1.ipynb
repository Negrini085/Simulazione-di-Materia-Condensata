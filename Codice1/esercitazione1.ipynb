{
 "cells": [
  {
   "cell_type": "markdown",
   "metadata": {},
   "source": [
    "<center>\n",
    "<h1 style=\"color:red; font-size:70px;\"> Esercitazione 1</h1>"
   ]
  },
  {
   "cell_type": "markdown",
   "metadata": {},
   "source": [
    "In questo notebook sono riportati gli esercizi da compiere con il codice fornito nella cartella **md.1**: i grafici qui presenti sono in python, ma nella cartella è presente anche un file .gnuplot contenente i comandi necessari per effettuare gli stessi plot con gnuplot. \n",
    "\n",
    "Per eseguire il notebook sui computer di laboratorio, è necessario lanciare il seguente comando e selezionare un kernel python.\n",
    "\n",
    "<center>\n",
    "\n",
    "`module load python3/anaconda`\n",
    "<center>"
   ]
  },
  {
   "cell_type": "code",
   "execution_count": 1,
   "metadata": {},
   "outputs": [],
   "source": [
    "import math\n",
    "import numpy as np\n",
    "import matplotlib.pyplot as plt\n",
    "from matplotlib import cm\n",
    "from mpl_toolkits.mplot3d import Axes3D\n",
    "from matplotlib.cm import ScalarMappable\n",
    "\n",
    "from scipy.stats import norm"
   ]
  },
  {
   "cell_type": "markdown",
   "metadata": {},
   "source": [
    "<center>\n",
    "\n",
    "## Integratore di Eulero"
   ]
  },
  {
   "cell_type": "markdown",
   "metadata": {},
   "source": [
    "L'algoritmo più semplice per la risoluzione delle equazioni di Newton lavorando con un time-step discreto è l'algoritmo di Eulero, che consiste nell'effettuare un'espansione di Taylor al primo ordine delle posizioni e delle velocità entrambe centrate in $t$. Abbiamo allora che\n",
    "\n",
    "$$\n",
    "\\vec{r_i}\\left(t+\\Delta t\\right)\\,=\\,\\vec{r_i}\\left(t\\right)\\,+\\,\\frac{d\\vec{r_i}\\left(t\\right)}{dt}\\Delta t\\,+\\,\\mathcal{O}(\\Delta t^2)\n",
    "$$\n",
    "\n",
    "$$\n",
    "\\vec{v_i}\\left(t+\\Delta t\\right)\\,=\\,\\vec{v_i}\\left(t\\right)\\,+\\,\\frac{d\\vec{v_i}\\left(t\\right)}{dt}\\Delta t\\,+\\,\\mathcal{O}(\\Delta t^2)\n",
    "$$\n",
    "\n",
    "dove l'indice i sta ad indicare la posizione e la velocità dell'i-esima particella facente parte del sistema. Tali equazioni possono essere espresse in modo leggermente differente sfruttando la definizione di velocità ed il secondo principio della dinamica, ottenendo come\n",
    "\n",
    "$$\n",
    "\\vec{r_i}\\left(t+\\Delta t\\right)\\,=\\,\\vec{r_i}\\left(t\\right)\\,+\\,\\vec{v_i}\\left(t\\right)\\Delta t\n",
    "$$\n",
    "\n",
    "$$\n",
    "\\vec{v_i}\\left(t+\\Delta t\\right)\\,=\\,\\vec{v_i}\\left(t\\right)\\,+\\,\\frac{\\vec{f_i}\\left(t\\right)}{m_i}\\Delta t\\,\n",
    "$$\n",
    "\n",
    "Abbiamo ottenuto un set di equazioni dove posizioni e velocità compaiono accoppiate fra loro, ma nel momento in cui sono note sia le $\\vec{r_i}$ che le $\\vec{v_i}$ è possibile calcolare tali quantità allo step successivo e proseguire in maniera iterativa. Una problematica dell'integratore di Eulero è che non è _simplettico_ e quindi non esiste un time-step abbastanza piccolo che consenta di conservare l'energia per una simulazione di lunghezza arbitraria. In particolare, è necessario un compromesso fra accuratezza del risultato computazionale e tempo d'esecuzione."
   ]
  }
 ],
 "metadata": {
  "kernelspec": {
   "display_name": "Python 3",
   "language": "python",
   "name": "python3"
  },
  "language_info": {
   "codemirror_mode": {
    "name": "ipython",
    "version": 3
   },
   "file_extension": ".py",
   "mimetype": "text/x-python",
   "name": "python",
   "nbconvert_exporter": "python",
   "pygments_lexer": "ipython3",
   "version": "3.10.12"
  }
 },
 "nbformat": 4,
 "nbformat_minor": 2
}
