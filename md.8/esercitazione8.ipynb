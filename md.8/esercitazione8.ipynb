{
 "cells": [
  {
   "cell_type": "markdown",
   "metadata": {},
   "source": [
    "<center>\n",
    "<h1 style=\"color:red; font-size:70px;\"> Esercitazione 8</h1>"
   ]
  },
  {
   "cell_type": "markdown",
   "metadata": {},
   "source": [
    "In questo notebook sono riportati gli esercizi da compiere con il codice fornito nella cartella **md.8**: i grafici presenti sono in python, ma nella cartella è presente anche un file .gnuplot contenente i comandi necessari per effettuare gli stessi plot in python. \n",
    "\n",
    "Per eseguire il notebook sui computer di laboratorio, è necessario lanciare il seguente comando e selezionare un kernel python.\n",
    "\n",
    "<center>\n",
    "\n",
    "`module load python3/anaconda`\n",
    "<center>"
   ]
  },
  {
   "cell_type": "markdown",
   "metadata": {},
   "source": [
    "<center>\n",
    "\n",
    "## Energia libera\n",
    "\n",
    "</center>"
   ]
  },
  {
   "cell_type": "markdown",
   "metadata": {},
   "source": [
    "L'energia libera di un sistema termodinamico è l'energia disponibile in un sistema per compiere lavoro utile, tenendo conto delle specifiche condizioni termodinamiche. Consideriamo il caso dell'energia libera di Helmholtz, che è definita a partire dalla funzione di partizione canonica come segue\n",
    "\n",
    "$$\n",
    "F\\left(N,\\,V,\\,T\\right)\\,=\\,-k_BT\\log{\\left[Z\\left(N,\\,V,\\,T\\right)\\right]}\n",
    "$$\n",
    "\n",
    "dove per ottenere la $Z$ abbiamo integrato il peso statistico di Gibbs sullo spazio delle fasi\n",
    "\n",
    "$$\n",
    "Z\\left(N,\\,V,\\,T\\right)\\,=\\,\\int \\frac{d^{3N}q d^{3N}q}{h^{3N}N!}\\exp{-\\left[H\\left(p,\\,q\\right)/k_BT\\right]}.\n",
    "$$\n",
    "\n",
    "Una volta nota un'espressione per l'energia libera di un sistema, è possibile ricavare l'intera termodinamica dello stesso. L'energia libera, o meglio discontinuità nelle derivate di primo ordine o di ordini superiori della stessa, consentono di identificare e distinguere le transizioni di fase, che si presentano quando una specifica fase diventa instabile alle condizioni termodinamiche del sistema in analisi. L'energia libera così definita non contiene informazioni relative allo stato configurazionale del sistema, ma è tuttavia possibile introdurre una nuova definizione di $F$, che va a dipendere anche dalle possibili conformazioni dello stato che si realizza. Abbiamo quindi che \n",
    "\n",
    "$$\n",
    "F\\left(\\Upsilon,T\\right)\\,=\\,-k_BT\\log{\\left\\{\\int_{\\Upsilon\\left(r\\right)} \\frac{d^{3N}q d^{3N}q}{h^{3N}N!}\\exp{-\\left[H\\left(p,\\,q\\right)/k_BT\\right]}\\right\\}},\n",
    "$$\n",
    "\n",
    "dove $\\Upsilon\\left(\\vec{r}\\right)$ è una qualche proprietà configurazionale del sistema, come per esempio configurazioni folded o unfolded di una catena di atomi interagenti fra loro con potenziali armonici e Lennard-Jones."
   ]
  },
  {
   "cell_type": "code",
   "execution_count": null,
   "metadata": {},
   "outputs": [],
   "source": []
  },
  {
   "cell_type": "code",
   "execution_count": 4,
   "metadata": {},
   "outputs": [
    {
     "name": "stdout",
     "output_type": "stream",
     "text": [
      "0.413107625\n"
     ]
    }
   ],
   "source": [
    "import numpy as np\n",
    "\n",
    "data = np.loadtxt(\"1Dbinning.dat\")\n",
    "print(sum(data[:,1]))"
   ]
  }
 ],
 "metadata": {
  "kernelspec": {
   "display_name": "Python 3",
   "language": "python",
   "name": "python3"
  },
  "language_info": {
   "codemirror_mode": {
    "name": "ipython",
    "version": 3
   },
   "file_extension": ".py",
   "mimetype": "text/x-python",
   "name": "python",
   "nbconvert_exporter": "python",
   "pygments_lexer": "ipython3",
   "version": "3.10.12"
  }
 },
 "nbformat": 4,
 "nbformat_minor": 2
}
