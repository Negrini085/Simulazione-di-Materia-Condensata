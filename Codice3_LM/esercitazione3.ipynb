{
 "cells": [
  {
   "cell_type": "markdown",
   "metadata": {},
   "source": [
    "<center>\n",
    "<h1 style=\"color:red; font-size:70px;\"> Esercitazione 3</h1>"
   ]
  },
  {
   "cell_type": "markdown",
   "metadata": {},
   "source": [
    "In questo notebook sono riportati gli esercizi per la cui soluzione è necessario il codice **md.1**: i grafici qui presenti sono in python, ma nella cartella è possibile trovarne di analoghi fatti con gnuplot. Sono anche riportati i comandi per creare i plot, salvati in dei file '.gnuplot'. \n",
    "\n",
    "Per eseguire il notebook sui computer di laboratorio, è necessario lanciare il seguente comando e selezionare il kernel python corretto.\n",
    "\n",
    "<center>\n",
    "\n",
    "`module load python3/anaconda`\n",
    "<center>"
   ]
  },
  {
   "cell_type": "code",
   "execution_count": 1,
   "metadata": {},
   "outputs": [],
   "source": [
    "import math\n",
    "import numpy as np\n",
    "import matplotlib.pyplot as plt\n",
    "from matplotlib import cm\n",
    "from mpl_toolkits.mplot3d import Axes3D\n",
    "from matplotlib.cm import ScalarMappable\n",
    "\n",
    "from scipy.stats import norm"
   ]
  },
  {
   "cell_type": "markdown",
   "metadata": {},
   "source": [
    "<center>\n",
    "<h1 style=\"color:blue; font-size:55px;\"> Esercizio 4.3</h1>"
   ]
  },
  {
   "cell_type": "markdown",
   "metadata": {},
   "source": [
    "L'obiettivo di questo esercizio è determinare il wetting angle per una goccia d'acqua che ha termalizzato a 300 K su una superficie costituita da un reticolo planare di atomi d'oro a base triangolare. In seguito è riportata una gif che mostra il processo di deposizione della goccia.\n",
    "\n",
    "<center>\n",
    "\n",
    "![Wetting angle](./Immagini/droplet.gif)\n",
    "</center>\n",
    "\n",
    "\n"
   ]
  },
  {
   "cell_type": "markdown",
   "metadata": {},
   "source": [
    "E' possibile apprezzare come la goccia tenda ad assumere una forma semi-sferica verso la fine della simulazione. Analizzando tale condizione, possiamo determinare quale sia la superficie della goccia filtrando gli atomi di ossigeno sul numero di coordinazione, ossia sul numero di primi vicini."
   ]
  },
  {
   "cell_type": "markdown",
   "metadata": {},
   "source": [
    "<center>\n",
    "\n",
    "![Primi vicini](./Immagini/last_oxigen.png)\n"
   ]
  },
  {
   "cell_type": "markdown",
   "metadata": {},
   "source": [
    "Possiamo infatti notare come gli atomi sulla superficie della goccia, non essendo completamente circondati da altre molecole di acqua, presentano meno primi vicini degli atomi centrali. Nell'immagine precedente il colore blu corrisponde ad avere pochi primi vicini, mentre il rosso evidenzia la situazione diametralmente opposta. Una volta individuata la superficie sferica, la goccia sarà schematizzata come segue"
   ]
  },
  {
   "cell_type": "markdown",
   "metadata": {},
   "source": [
    "<center>\n",
    "\n",
    "![Goccia filtrata](./Immagini/last_filtered.png)\n",
    "</center>"
   ]
  },
  {
   "cell_type": "markdown",
   "metadata": {},
   "source": [
    "Effettuando un fit con una superficie sferica è immediato ottenere l'angolo di wetting come\n",
    "\n",
    "$$\n",
    "\\theta_{wet} = \\arcsin{\\left(\\frac{z_{min}\\,-\\,z_0}{r}\\right)}\\,+\\,\\frac{\\pi}{2}\n",
    "$$\n",
    "\n",
    "Per avere un po' di statistica, ho effettuato l'analisi sulle ultime cinque configurazioni visitate dal sistema nelle fasi finali della simulazione.\n",
    "\n",
    "<center>\n",
    "\n",
    "| # | $\\theta_{wet}$ [gradi]        |\n",
    "|---|-----------------------|\n",
    "| 1 | 93.47                 |\n",
    "| 2 | 89.05                 |\n",
    "| 3 | 85.18                 |\n",
    "| 4 | 87.55                 |\n",
    "| 5 | 85.92                 |\n",
    "</center>\n",
    "\n",
    "L'angolo di wetting medio risulta essere pari a \n",
    "\n",
    "$$\n",
    "\\left<\\theta_{wet}\\right>\\,=\\,88.23\n",
    "$$\n",
    "\n",
    "Un angolo di questa entità indica che la superficie in analisi è idrofila."
   ]
  }
 ],
 "metadata": {
  "kernelspec": {
   "display_name": "Python 3",
   "language": "python",
   "name": "python3"
  },
  "language_info": {
   "codemirror_mode": {
    "name": "ipython",
    "version": 3
   },
   "file_extension": ".py",
   "mimetype": "text/x-python",
   "name": "python",
   "nbconvert_exporter": "python",
   "pygments_lexer": "ipython3",
   "version": "3.10.12"
  }
 },
 "nbformat": 4,
 "nbformat_minor": 2
}
